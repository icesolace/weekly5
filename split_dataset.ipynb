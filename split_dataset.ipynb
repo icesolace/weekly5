{
 "cells": [
  {
   "metadata": {},
   "cell_type": "markdown",
   "source": "### Connect & Create DB to Postgresql bs140513_032310.csv",
   "id": "7e791a75df98c485"
  },
  {
   "metadata": {
    "ExecuteTime": {
     "end_time": "2024-05-13T06:57:03.963187Z",
     "start_time": "2024-05-13T06:57:01.486455Z"
    }
   },
   "cell_type": "code",
   "source": [
    "import pandas as pd\n",
    "#Identify data types to define in psql query\n",
    "df = pd.read_csv('bs.csv',quotechar=\"'\")\n",
    "df_net = pd.read_csv('bsnet.csv',quotechar=\"'\")\n",
    "print(df.dtypes)"
   ],
   "id": "e42f308038477f7e",
   "outputs": [
    {
     "name": "stdout",
     "output_type": "stream",
     "text": [
      "step             int64\n",
      "customer        object\n",
      "age             object\n",
      "gender          object\n",
      "zipcodeOri       int64\n",
      "merchant        object\n",
      "zipMerchant      int64\n",
      "category        object\n",
      "amount         float64\n",
      "fraud            int64\n",
      "dtype: object\n"
     ]
    }
   ],
   "execution_count": 48
  },
  {
   "metadata": {
    "ExecuteTime": {
     "end_time": "2024-05-13T06:57:03.995190Z",
     "start_time": "2024-05-13T06:57:03.976191Z"
    }
   },
   "cell_type": "code",
   "source": "print(df_net.dtypes)",
   "id": "ff59f966fbb47ad0",
   "outputs": [
    {
     "name": "stdout",
     "output_type": "stream",
     "text": [
      "Source        object\n",
      "Target        object\n",
      "Weight       float64\n",
      "typeTrans     object\n",
      "fraud          int64\n",
      "dtype: object\n"
     ]
    }
   ],
   "execution_count": 49
  },
  {
   "metadata": {
    "ExecuteTime": {
     "end_time": "2024-05-13T06:57:04.568190Z",
     "start_time": "2024-05-13T06:57:04.000191Z"
    }
   },
   "cell_type": "code",
   "source": [
    "for column in df.columns:\n",
    "    unique_values = df[column].unique()\n",
    "    print(f\"Kolom '{column}' memiliki {len(unique_values)} unique value:\\n{unique_values}\\n\")"
   ],
   "id": "16f5276c8ced38d3",
   "outputs": [
    {
     "name": "stdout",
     "output_type": "stream",
     "text": [
      "Kolom 'step' memiliki 180 unique value:\n",
      "[  0   1   2   3   4   5   6   7   8   9  10  11  12  13  14  15  16  17\n",
      "  18  19  20  21  22  23  24  25  26  27  28  29  30  31  32  33  34  35\n",
      "  36  37  38  39  40  41  42  43  44  45  46  47  48  49  50  51  52  53\n",
      "  54  55  56  57  58  59  60  61  62  63  64  65  66  67  68  69  70  71\n",
      "  72  73  74  75  76  77  78  79  80  81  82  83  84  85  86  87  88  89\n",
      "  90  91  92  93  94  95  96  97  98  99 100 101 102 103 104 105 106 107\n",
      " 108 109 110 111 112 113 114 115 116 117 118 119 120 121 122 123 124 125\n",
      " 126 127 128 129 130 131 132 133 134 135 136 137 138 139 140 141 142 143\n",
      " 144 145 146 147 148 149 150 151 152 153 154 155 156 157 158 159 160 161\n",
      " 162 163 164 165 166 167 168 169 170 171 172 173 174 175 176 177 178 179]\n",
      "\n",
      "Kolom 'customer' memiliki 4112 unique value:\n",
      "['C1093826151' 'C352968107' 'C2054744914' ... 'C1014783484' 'C849065220'\n",
      " 'C1809646275']\n",
      "\n",
      "Kolom 'age' memiliki 8 unique value:\n",
      "['4' '2' '3' '5' '1' '6' 'U' '0']\n",
      "\n",
      "Kolom 'gender' memiliki 4 unique value:\n",
      "['M' 'F' 'E' 'U']\n",
      "\n",
      "Kolom 'zipcodeOri' memiliki 1 unique value:\n",
      "[28007]\n",
      "\n",
      "Kolom 'merchant' memiliki 50 unique value:\n",
      "['M348934600' 'M1823072687' 'M50039827' 'M1888755466' 'M1053599405'\n",
      " 'M85975013' 'M480139044' 'M692898500' 'M348875670' 'M151143676'\n",
      " 'M840466850' 'M1741626453' 'M1535107174' 'M855959430' 'M349281107'\n",
      " 'M209847108' 'M2122776122' 'M1873032707' 'M2011752106' 'M857378720'\n",
      " 'M1198415165' 'M1748431652' 'M980657600' 'M1352454843' 'M117188757'\n",
      " 'M547558035' 'M17379832' 'M1649169323' 'M1946091778' 'M97925176'\n",
      " 'M923029380' 'M1353266412' 'M1842530320' 'M677738360' 'M1313686961'\n",
      " 'M732195782' 'M1600850729' 'M1872033263' 'M3697346' 'M495352832'\n",
      " 'M1400236507' 'M1294758098' 'M1913465890' 'M45060432' 'M78078399'\n",
      " 'M2080407379' 'M1788569036' 'M1416436880' 'M933210764' 'M1726401631']\n",
      "\n",
      "Kolom 'zipMerchant' memiliki 1 unique value:\n",
      "[28007]\n",
      "\n",
      "Kolom 'category' memiliki 15 unique value:\n",
      "['es_transportation' 'es_health' 'es_otherservices' 'es_food'\n",
      " 'es_hotelservices' 'es_barsandrestaurants' 'es_tech' 'es_sportsandtoys'\n",
      " 'es_wellnessandbeauty' 'es_hyper' 'es_fashion' 'es_home' 'es_contents'\n",
      " 'es_travel' 'es_leisure']\n",
      "\n",
      "Kolom 'amount' memiliki 23767 unique value:\n",
      "[  4.55  39.68  26.89 ... 249.18 224.81 190.31]\n",
      "\n",
      "Kolom 'fraud' memiliki 2 unique value:\n",
      "[0 1]\n",
      "\n"
     ]
    }
   ],
   "execution_count": 50
  },
  {
   "metadata": {
    "ExecuteTime": {
     "end_time": "2024-05-13T06:57:05.470191Z",
     "start_time": "2024-05-13T06:57:04.574191Z"
    }
   },
   "cell_type": "code",
   "source": [
    "import numpy as np\n",
    "\n",
    "# Mengganti nilai \"U\" menjadi null value\n",
    "df['age'] = df['age'].replace('U', np.nan)\n",
    "df['gender'] = df['gender'].replace('U', np.nan)\n",
    "\n",
    "df['customer'] = df['customer'].str.replace('C', '')\n",
    "df['merchant'] = df['merchant'].str.replace('M', '')"
   ],
   "id": "ad63c2697e122cd5",
   "outputs": [],
   "execution_count": 51
  },
  {
   "metadata": {
    "ExecuteTime": {
     "end_time": "2024-05-13T06:57:05.882190Z",
     "start_time": "2024-05-13T06:57:05.475191Z"
    }
   },
   "cell_type": "code",
   "source": [
    "for column in df.columns:\n",
    "    unique_values = df[column].unique()\n",
    "    print(f\"Kolom '{column}' memiliki {len(unique_values)} unique value:\\n{unique_values}\\n\")"
   ],
   "id": "19fe64908e565d87",
   "outputs": [
    {
     "name": "stdout",
     "output_type": "stream",
     "text": [
      "Kolom 'step' memiliki 180 unique value:\n",
      "[  0   1   2   3   4   5   6   7   8   9  10  11  12  13  14  15  16  17\n",
      "  18  19  20  21  22  23  24  25  26  27  28  29  30  31  32  33  34  35\n",
      "  36  37  38  39  40  41  42  43  44  45  46  47  48  49  50  51  52  53\n",
      "  54  55  56  57  58  59  60  61  62  63  64  65  66  67  68  69  70  71\n",
      "  72  73  74  75  76  77  78  79  80  81  82  83  84  85  86  87  88  89\n",
      "  90  91  92  93  94  95  96  97  98  99 100 101 102 103 104 105 106 107\n",
      " 108 109 110 111 112 113 114 115 116 117 118 119 120 121 122 123 124 125\n",
      " 126 127 128 129 130 131 132 133 134 135 136 137 138 139 140 141 142 143\n",
      " 144 145 146 147 148 149 150 151 152 153 154 155 156 157 158 159 160 161\n",
      " 162 163 164 165 166 167 168 169 170 171 172 173 174 175 176 177 178 179]\n",
      "\n",
      "Kolom 'customer' memiliki 4112 unique value:\n",
      "['1093826151' '352968107' '2054744914' ... '1014783484' '849065220'\n",
      " '1809646275']\n",
      "\n",
      "Kolom 'age' memiliki 8 unique value:\n",
      "['4' '2' '3' '5' '1' '6' nan '0']\n",
      "\n",
      "Kolom 'gender' memiliki 4 unique value:\n",
      "['M' 'F' 'E' nan]\n",
      "\n",
      "Kolom 'zipcodeOri' memiliki 1 unique value:\n",
      "[28007]\n",
      "\n",
      "Kolom 'merchant' memiliki 50 unique value:\n",
      "['348934600' '1823072687' '50039827' '1888755466' '1053599405' '85975013'\n",
      " '480139044' '692898500' '348875670' '151143676' '840466850' '1741626453'\n",
      " '1535107174' '855959430' '349281107' '209847108' '2122776122'\n",
      " '1873032707' '2011752106' '857378720' '1198415165' '1748431652'\n",
      " '980657600' '1352454843' '117188757' '547558035' '17379832' '1649169323'\n",
      " '1946091778' '97925176' '923029380' '1353266412' '1842530320' '677738360'\n",
      " '1313686961' '732195782' '1600850729' '1872033263' '3697346' '495352832'\n",
      " '1400236507' '1294758098' '1913465890' '45060432' '78078399' '2080407379'\n",
      " '1788569036' '1416436880' '933210764' '1726401631']\n",
      "\n",
      "Kolom 'zipMerchant' memiliki 1 unique value:\n",
      "[28007]\n",
      "\n",
      "Kolom 'category' memiliki 15 unique value:\n",
      "['es_transportation' 'es_health' 'es_otherservices' 'es_food'\n",
      " 'es_hotelservices' 'es_barsandrestaurants' 'es_tech' 'es_sportsandtoys'\n",
      " 'es_wellnessandbeauty' 'es_hyper' 'es_fashion' 'es_home' 'es_contents'\n",
      " 'es_travel' 'es_leisure']\n",
      "\n",
      "Kolom 'amount' memiliki 23767 unique value:\n",
      "[  4.55  39.68  26.89 ... 249.18 224.81 190.31]\n",
      "\n",
      "Kolom 'fraud' memiliki 2 unique value:\n",
      "[0 1]\n",
      "\n"
     ]
    }
   ],
   "execution_count": 52
  },
  {
   "metadata": {
    "ExecuteTime": {
     "end_time": "2024-05-13T06:57:05.914191Z",
     "start_time": "2024-05-13T06:57:05.888192Z"
    }
   },
   "cell_type": "code",
   "source": "print(df_net.dtypes)",
   "id": "1cfce40b0309650",
   "outputs": [
    {
     "name": "stdout",
     "output_type": "stream",
     "text": [
      "Source        object\n",
      "Target        object\n",
      "Weight       float64\n",
      "typeTrans     object\n",
      "fraud          int64\n",
      "dtype: object\n"
     ]
    }
   ],
   "execution_count": 53
  },
  {
   "metadata": {
    "ExecuteTime": {
     "end_time": "2024-05-13T06:59:10.541430Z",
     "start_time": "2024-05-13T06:59:10.328897Z"
    }
   },
   "cell_type": "code",
   "source": [
    "df_customer = df[['customer', 'age', 'gender', 'zipcodeOri']]  # Ganti dengan nama kolom yang kamu inginkan\n",
    "df_transaction = df[['step', 'amount', 'fraud','customer','merchant']]\n",
    "\n",
    "df_merchant1 = df[['merchant', 'zipMerchant', 'category']]  # Ganti dengan nama kolom yang kamu inginkan \n",
    "df_merchant2 = df_net[['Weight']]  # Ganti dengan nama kolom dari dataset pertama yang ingin kamu gabungkan\n",
    "df_merchant = pd.concat([df_merchant1, df_merchant2], axis=1)\n",
    "\n",
    "\n",
    "# Buat dataset baru dengan kolom yang dipilih\n",
    "# df_transaction = df[df_customer]\n",
    "# df_merchant = df[df_merchant]\n",
    "# df_customer = df[df_transaction]\n",
    "\n",
    "# Menyimpan dataset baru ke file CSV jika diperlukan\n",
    "# dataset_baru.to_csv('dataset_baru.csv', index=False)  # Ganti 'dataset_baru.csv' dengan nama file untuk menyimpan dataset baru\n"
   ],
   "id": "1db8e52bdbc0ef2a",
   "outputs": [],
   "execution_count": 55
  },
  {
   "metadata": {
    "ExecuteTime": {
     "end_time": "2024-05-13T06:59:13.514763Z",
     "start_time": "2024-05-13T06:59:13.487760Z"
    }
   },
   "cell_type": "code",
   "source": "df_merchant.head()",
   "id": "4533cde77d968121",
   "outputs": [
    {
     "data": {
      "text/plain": [
       "     merchant  zipMerchant           category  Weight\n",
       "0   348934600        28007  es_transportation    4.55\n",
       "1   348934600        28007  es_transportation   39.68\n",
       "2  1823072687        28007  es_transportation   26.89\n",
       "3   348934600        28007  es_transportation   17.25\n",
       "4   348934600        28007  es_transportation   35.72"
      ],
      "text/html": [
       "<div>\n",
       "<style scoped>\n",
       "    .dataframe tbody tr th:only-of-type {\n",
       "        vertical-align: middle;\n",
       "    }\n",
       "\n",
       "    .dataframe tbody tr th {\n",
       "        vertical-align: top;\n",
       "    }\n",
       "\n",
       "    .dataframe thead th {\n",
       "        text-align: right;\n",
       "    }\n",
       "</style>\n",
       "<table border=\"1\" class=\"dataframe\">\n",
       "  <thead>\n",
       "    <tr style=\"text-align: right;\">\n",
       "      <th></th>\n",
       "      <th>merchant</th>\n",
       "      <th>zipMerchant</th>\n",
       "      <th>category</th>\n",
       "      <th>Weight</th>\n",
       "    </tr>\n",
       "  </thead>\n",
       "  <tbody>\n",
       "    <tr>\n",
       "      <th>0</th>\n",
       "      <td>348934600</td>\n",
       "      <td>28007</td>\n",
       "      <td>es_transportation</td>\n",
       "      <td>4.55</td>\n",
       "    </tr>\n",
       "    <tr>\n",
       "      <th>1</th>\n",
       "      <td>348934600</td>\n",
       "      <td>28007</td>\n",
       "      <td>es_transportation</td>\n",
       "      <td>39.68</td>\n",
       "    </tr>\n",
       "    <tr>\n",
       "      <th>2</th>\n",
       "      <td>1823072687</td>\n",
       "      <td>28007</td>\n",
       "      <td>es_transportation</td>\n",
       "      <td>26.89</td>\n",
       "    </tr>\n",
       "    <tr>\n",
       "      <th>3</th>\n",
       "      <td>348934600</td>\n",
       "      <td>28007</td>\n",
       "      <td>es_transportation</td>\n",
       "      <td>17.25</td>\n",
       "    </tr>\n",
       "    <tr>\n",
       "      <th>4</th>\n",
       "      <td>348934600</td>\n",
       "      <td>28007</td>\n",
       "      <td>es_transportation</td>\n",
       "      <td>35.72</td>\n",
       "    </tr>\n",
       "  </tbody>\n",
       "</table>\n",
       "</div>"
      ]
     },
     "execution_count": 56,
     "metadata": {},
     "output_type": "execute_result"
    }
   ],
   "execution_count": 56
  },
  {
   "metadata": {
    "ExecuteTime": {
     "end_time": "2024-05-13T08:08:05.421217Z",
     "start_time": "2024-05-13T08:08:05.285219Z"
    }
   },
   "cell_type": "code",
   "source": [
    "df_merchant = df_merchant.drop_duplicates(subset=['merchant'])\n",
    "df_merchant.head()"
   ],
   "id": "65a5f262031cccac",
   "outputs": [
    {
     "data": {
      "text/plain": [
       "      merchant  zipMerchant           category  Weight\n",
       "0    348934600        28007  es_transportation    4.55\n",
       "2   1823072687        28007  es_transportation   26.89\n",
       "12    50039827        28007          es_health   68.79\n",
       "40  1888755466        28007   es_otherservices   87.67\n",
       "42  1053599405        28007          es_health  105.59"
      ],
      "text/html": [
       "<div>\n",
       "<style scoped>\n",
       "    .dataframe tbody tr th:only-of-type {\n",
       "        vertical-align: middle;\n",
       "    }\n",
       "\n",
       "    .dataframe tbody tr th {\n",
       "        vertical-align: top;\n",
       "    }\n",
       "\n",
       "    .dataframe thead th {\n",
       "        text-align: right;\n",
       "    }\n",
       "</style>\n",
       "<table border=\"1\" class=\"dataframe\">\n",
       "  <thead>\n",
       "    <tr style=\"text-align: right;\">\n",
       "      <th></th>\n",
       "      <th>merchant</th>\n",
       "      <th>zipMerchant</th>\n",
       "      <th>category</th>\n",
       "      <th>Weight</th>\n",
       "    </tr>\n",
       "  </thead>\n",
       "  <tbody>\n",
       "    <tr>\n",
       "      <th>0</th>\n",
       "      <td>348934600</td>\n",
       "      <td>28007</td>\n",
       "      <td>es_transportation</td>\n",
       "      <td>4.55</td>\n",
       "    </tr>\n",
       "    <tr>\n",
       "      <th>2</th>\n",
       "      <td>1823072687</td>\n",
       "      <td>28007</td>\n",
       "      <td>es_transportation</td>\n",
       "      <td>26.89</td>\n",
       "    </tr>\n",
       "    <tr>\n",
       "      <th>12</th>\n",
       "      <td>50039827</td>\n",
       "      <td>28007</td>\n",
       "      <td>es_health</td>\n",
       "      <td>68.79</td>\n",
       "    </tr>\n",
       "    <tr>\n",
       "      <th>40</th>\n",
       "      <td>1888755466</td>\n",
       "      <td>28007</td>\n",
       "      <td>es_otherservices</td>\n",
       "      <td>87.67</td>\n",
       "    </tr>\n",
       "    <tr>\n",
       "      <th>42</th>\n",
       "      <td>1053599405</td>\n",
       "      <td>28007</td>\n",
       "      <td>es_health</td>\n",
       "      <td>105.59</td>\n",
       "    </tr>\n",
       "  </tbody>\n",
       "</table>\n",
       "</div>"
      ]
     },
     "execution_count": 58,
     "metadata": {},
     "output_type": "execute_result"
    }
   ],
   "execution_count": 58
  },
  {
   "metadata": {
    "ExecuteTime": {
     "end_time": "2024-05-13T06:59:37.129024Z",
     "start_time": "2024-05-13T06:59:37.100027Z"
    }
   },
   "cell_type": "code",
   "source": "df_transaction",
   "id": "125e3c4ee6c4018f",
   "outputs": [
    {
     "data": {
      "text/plain": [
       "        step  amount  fraud    customer    merchant\n",
       "0          0    4.55      0  1093826151   348934600\n",
       "1          0   39.68      0   352968107   348934600\n",
       "2          0   26.89      0  2054744914  1823072687\n",
       "3          0   17.25      0  1760612790   348934600\n",
       "4          0   35.72      0   757503768   348934600\n",
       "...      ...     ...    ...         ...         ...\n",
       "594638   179   20.53      0  1753498738  1823072687\n",
       "594639   179   50.73      0   650108285  1823072687\n",
       "594640   179   22.44      0   123623130   349281107\n",
       "594641   179   14.46      0  1499363341  1823072687\n",
       "594642   179   26.93      0   616528518  1823072687\n",
       "\n",
       "[594643 rows x 5 columns]"
      ],
      "text/html": [
       "<div>\n",
       "<style scoped>\n",
       "    .dataframe tbody tr th:only-of-type {\n",
       "        vertical-align: middle;\n",
       "    }\n",
       "\n",
       "    .dataframe tbody tr th {\n",
       "        vertical-align: top;\n",
       "    }\n",
       "\n",
       "    .dataframe thead th {\n",
       "        text-align: right;\n",
       "    }\n",
       "</style>\n",
       "<table border=\"1\" class=\"dataframe\">\n",
       "  <thead>\n",
       "    <tr style=\"text-align: right;\">\n",
       "      <th></th>\n",
       "      <th>step</th>\n",
       "      <th>amount</th>\n",
       "      <th>fraud</th>\n",
       "      <th>customer</th>\n",
       "      <th>merchant</th>\n",
       "    </tr>\n",
       "  </thead>\n",
       "  <tbody>\n",
       "    <tr>\n",
       "      <th>0</th>\n",
       "      <td>0</td>\n",
       "      <td>4.55</td>\n",
       "      <td>0</td>\n",
       "      <td>1093826151</td>\n",
       "      <td>348934600</td>\n",
       "    </tr>\n",
       "    <tr>\n",
       "      <th>1</th>\n",
       "      <td>0</td>\n",
       "      <td>39.68</td>\n",
       "      <td>0</td>\n",
       "      <td>352968107</td>\n",
       "      <td>348934600</td>\n",
       "    </tr>\n",
       "    <tr>\n",
       "      <th>2</th>\n",
       "      <td>0</td>\n",
       "      <td>26.89</td>\n",
       "      <td>0</td>\n",
       "      <td>2054744914</td>\n",
       "      <td>1823072687</td>\n",
       "    </tr>\n",
       "    <tr>\n",
       "      <th>3</th>\n",
       "      <td>0</td>\n",
       "      <td>17.25</td>\n",
       "      <td>0</td>\n",
       "      <td>1760612790</td>\n",
       "      <td>348934600</td>\n",
       "    </tr>\n",
       "    <tr>\n",
       "      <th>4</th>\n",
       "      <td>0</td>\n",
       "      <td>35.72</td>\n",
       "      <td>0</td>\n",
       "      <td>757503768</td>\n",
       "      <td>348934600</td>\n",
       "    </tr>\n",
       "    <tr>\n",
       "      <th>...</th>\n",
       "      <td>...</td>\n",
       "      <td>...</td>\n",
       "      <td>...</td>\n",
       "      <td>...</td>\n",
       "      <td>...</td>\n",
       "    </tr>\n",
       "    <tr>\n",
       "      <th>594638</th>\n",
       "      <td>179</td>\n",
       "      <td>20.53</td>\n",
       "      <td>0</td>\n",
       "      <td>1753498738</td>\n",
       "      <td>1823072687</td>\n",
       "    </tr>\n",
       "    <tr>\n",
       "      <th>594639</th>\n",
       "      <td>179</td>\n",
       "      <td>50.73</td>\n",
       "      <td>0</td>\n",
       "      <td>650108285</td>\n",
       "      <td>1823072687</td>\n",
       "    </tr>\n",
       "    <tr>\n",
       "      <th>594640</th>\n",
       "      <td>179</td>\n",
       "      <td>22.44</td>\n",
       "      <td>0</td>\n",
       "      <td>123623130</td>\n",
       "      <td>349281107</td>\n",
       "    </tr>\n",
       "    <tr>\n",
       "      <th>594641</th>\n",
       "      <td>179</td>\n",
       "      <td>14.46</td>\n",
       "      <td>0</td>\n",
       "      <td>1499363341</td>\n",
       "      <td>1823072687</td>\n",
       "    </tr>\n",
       "    <tr>\n",
       "      <th>594642</th>\n",
       "      <td>179</td>\n",
       "      <td>26.93</td>\n",
       "      <td>0</td>\n",
       "      <td>616528518</td>\n",
       "      <td>1823072687</td>\n",
       "    </tr>\n",
       "  </tbody>\n",
       "</table>\n",
       "<p>594643 rows × 5 columns</p>\n",
       "</div>"
      ]
     },
     "execution_count": 57,
     "metadata": {},
     "output_type": "execute_result"
    }
   ],
   "execution_count": 57
  },
  {
   "metadata": {
    "ExecuteTime": {
     "end_time": "2024-05-13T08:11:07.977221Z",
     "start_time": "2024-05-13T08:11:07.960220Z"
    }
   },
   "cell_type": "code",
   "source": "df_customer.head()",
   "id": "d2833890305430",
   "outputs": [
    {
     "data": {
      "text/plain": [
       "     customer age gender  zipcodeOri\n",
       "0  1093826151   4      M       28007\n",
       "1   352968107   2      M       28007\n",
       "2  2054744914   4      F       28007\n",
       "3  1760612790   3      M       28007\n",
       "4   757503768   5      M       28007"
      ],
      "text/html": [
       "<div>\n",
       "<style scoped>\n",
       "    .dataframe tbody tr th:only-of-type {\n",
       "        vertical-align: middle;\n",
       "    }\n",
       "\n",
       "    .dataframe tbody tr th {\n",
       "        vertical-align: top;\n",
       "    }\n",
       "\n",
       "    .dataframe thead th {\n",
       "        text-align: right;\n",
       "    }\n",
       "</style>\n",
       "<table border=\"1\" class=\"dataframe\">\n",
       "  <thead>\n",
       "    <tr style=\"text-align: right;\">\n",
       "      <th></th>\n",
       "      <th>customer</th>\n",
       "      <th>age</th>\n",
       "      <th>gender</th>\n",
       "      <th>zipcodeOri</th>\n",
       "    </tr>\n",
       "  </thead>\n",
       "  <tbody>\n",
       "    <tr>\n",
       "      <th>0</th>\n",
       "      <td>1093826151</td>\n",
       "      <td>4</td>\n",
       "      <td>M</td>\n",
       "      <td>28007</td>\n",
       "    </tr>\n",
       "    <tr>\n",
       "      <th>1</th>\n",
       "      <td>352968107</td>\n",
       "      <td>2</td>\n",
       "      <td>M</td>\n",
       "      <td>28007</td>\n",
       "    </tr>\n",
       "    <tr>\n",
       "      <th>2</th>\n",
       "      <td>2054744914</td>\n",
       "      <td>4</td>\n",
       "      <td>F</td>\n",
       "      <td>28007</td>\n",
       "    </tr>\n",
       "    <tr>\n",
       "      <th>3</th>\n",
       "      <td>1760612790</td>\n",
       "      <td>3</td>\n",
       "      <td>M</td>\n",
       "      <td>28007</td>\n",
       "    </tr>\n",
       "    <tr>\n",
       "      <th>4</th>\n",
       "      <td>757503768</td>\n",
       "      <td>5</td>\n",
       "      <td>M</td>\n",
       "      <td>28007</td>\n",
       "    </tr>\n",
       "  </tbody>\n",
       "</table>\n",
       "</div>"
      ]
     },
     "execution_count": 62,
     "metadata": {},
     "output_type": "execute_result"
    }
   ],
   "execution_count": 62
  },
  {
   "metadata": {
    "ExecuteTime": {
     "end_time": "2024-05-13T08:11:17.081855Z",
     "start_time": "2024-05-13T08:11:16.897855Z"
    }
   },
   "cell_type": "code",
   "source": [
    "df_customer = df_customer.drop_duplicates(subset=['customer'])\n",
    "df_customer"
   ],
   "id": "9892bc404e9e1402",
   "outputs": [
    {
     "data": {
      "text/plain": [
       "          customer age gender  zipcodeOri\n",
       "0       1093826151   4      M       28007\n",
       "1        352968107   2      M       28007\n",
       "2       2054744914   4      F       28007\n",
       "3       1760612790   3      M       28007\n",
       "4        757503768   5      M       28007\n",
       "...            ...  ..    ...         ...\n",
       "236475   650117238   3      M       28007\n",
       "254227  2095815783   2      F       28007\n",
       "308714  1014783484   1      F       28007\n",
       "309490   849065220   4      F       28007\n",
       "430252  1809646275   3      F       28007\n",
       "\n",
       "[4112 rows x 4 columns]"
      ],
      "text/html": [
       "<div>\n",
       "<style scoped>\n",
       "    .dataframe tbody tr th:only-of-type {\n",
       "        vertical-align: middle;\n",
       "    }\n",
       "\n",
       "    .dataframe tbody tr th {\n",
       "        vertical-align: top;\n",
       "    }\n",
       "\n",
       "    .dataframe thead th {\n",
       "        text-align: right;\n",
       "    }\n",
       "</style>\n",
       "<table border=\"1\" class=\"dataframe\">\n",
       "  <thead>\n",
       "    <tr style=\"text-align: right;\">\n",
       "      <th></th>\n",
       "      <th>customer</th>\n",
       "      <th>age</th>\n",
       "      <th>gender</th>\n",
       "      <th>zipcodeOri</th>\n",
       "    </tr>\n",
       "  </thead>\n",
       "  <tbody>\n",
       "    <tr>\n",
       "      <th>0</th>\n",
       "      <td>1093826151</td>\n",
       "      <td>4</td>\n",
       "      <td>M</td>\n",
       "      <td>28007</td>\n",
       "    </tr>\n",
       "    <tr>\n",
       "      <th>1</th>\n",
       "      <td>352968107</td>\n",
       "      <td>2</td>\n",
       "      <td>M</td>\n",
       "      <td>28007</td>\n",
       "    </tr>\n",
       "    <tr>\n",
       "      <th>2</th>\n",
       "      <td>2054744914</td>\n",
       "      <td>4</td>\n",
       "      <td>F</td>\n",
       "      <td>28007</td>\n",
       "    </tr>\n",
       "    <tr>\n",
       "      <th>3</th>\n",
       "      <td>1760612790</td>\n",
       "      <td>3</td>\n",
       "      <td>M</td>\n",
       "      <td>28007</td>\n",
       "    </tr>\n",
       "    <tr>\n",
       "      <th>4</th>\n",
       "      <td>757503768</td>\n",
       "      <td>5</td>\n",
       "      <td>M</td>\n",
       "      <td>28007</td>\n",
       "    </tr>\n",
       "    <tr>\n",
       "      <th>...</th>\n",
       "      <td>...</td>\n",
       "      <td>...</td>\n",
       "      <td>...</td>\n",
       "      <td>...</td>\n",
       "    </tr>\n",
       "    <tr>\n",
       "      <th>236475</th>\n",
       "      <td>650117238</td>\n",
       "      <td>3</td>\n",
       "      <td>M</td>\n",
       "      <td>28007</td>\n",
       "    </tr>\n",
       "    <tr>\n",
       "      <th>254227</th>\n",
       "      <td>2095815783</td>\n",
       "      <td>2</td>\n",
       "      <td>F</td>\n",
       "      <td>28007</td>\n",
       "    </tr>\n",
       "    <tr>\n",
       "      <th>308714</th>\n",
       "      <td>1014783484</td>\n",
       "      <td>1</td>\n",
       "      <td>F</td>\n",
       "      <td>28007</td>\n",
       "    </tr>\n",
       "    <tr>\n",
       "      <th>309490</th>\n",
       "      <td>849065220</td>\n",
       "      <td>4</td>\n",
       "      <td>F</td>\n",
       "      <td>28007</td>\n",
       "    </tr>\n",
       "    <tr>\n",
       "      <th>430252</th>\n",
       "      <td>1809646275</td>\n",
       "      <td>3</td>\n",
       "      <td>F</td>\n",
       "      <td>28007</td>\n",
       "    </tr>\n",
       "  </tbody>\n",
       "</table>\n",
       "<p>4112 rows × 4 columns</p>\n",
       "</div>"
      ]
     },
     "execution_count": 63,
     "metadata": {},
     "output_type": "execute_result"
    }
   ],
   "execution_count": 63
  },
  {
   "metadata": {
    "ExecuteTime": {
     "end_time": "2024-05-13T08:14:07.354303Z",
     "start_time": "2024-05-13T08:14:03.312181Z"
    }
   },
   "cell_type": "code",
   "source": [
    "df_customer.to_csv('df_customer.csv', index=False)\n",
    "df_transaction.to_csv('df_transaction.csv', index=False)\n",
    "df_merchant.to_csv('df_merchant.csv', index=False)"
   ],
   "id": "d712543623e0e367",
   "outputs": [],
   "execution_count": 64
  }
 ],
 "metadata": {
  "kernelspec": {
   "display_name": "Python 3",
   "language": "python",
   "name": "python3"
  },
  "language_info": {
   "codemirror_mode": {
    "name": "ipython",
    "version": 2
   },
   "file_extension": ".py",
   "mimetype": "text/x-python",
   "name": "python",
   "nbconvert_exporter": "python",
   "pygments_lexer": "ipython2",
   "version": "2.7.6"
  }
 },
 "nbformat": 4,
 "nbformat_minor": 5
}
